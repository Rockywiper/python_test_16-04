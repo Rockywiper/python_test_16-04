{
 "cells": [
  {
   "cell_type": "markdown",
   "id": "fdc35c9d",
   "metadata": {},
   "source": [
    "### 1. Write a program (with function) which takes a sequence of numbers and check if all the numbers are unique.\n",
    "\n"
   ]
  },
  {
   "cell_type": "code",
   "execution_count": 29,
   "id": "ebcc4bc7",
   "metadata": {},
   "outputs": [
    {
     "name": "stdout",
     "output_type": "stream",
     "text": [
      "4\n",
      "5\n"
     ]
    }
   ],
   "source": [
    "def seq(x):\n",
    "    for i in range(0, len(x)):\n",
    "        for j in range(i+1, len(x)):\n",
    "            if(x[i] == x[j]):\n",
    "                print(x[i])\n",
    "x = [1, 2, 3, 4, 4, 5, 5]\n",
    "seq(x)"
   ]
  },
  {
   "cell_type": "markdown",
   "id": "b1133f36",
   "metadata": {},
   "source": [
    "### 2. Python program to find out the average of a set of integers\n",
    "\n",
    "a. Note: Don’t use the pre-defined functions like np.mean\n",
    "b. For ex: If input is 5, the output should be average of 1+2+3+4+5"
   ]
  },
  {
   "cell_type": "code",
   "execution_count": 5,
   "id": "acc86f06",
   "metadata": {},
   "outputs": [
    {
     "name": "stdout",
     "output_type": "stream",
     "text": [
      "Enter the range:5\n",
      "Enter the integers:3\n",
      "Enter the integers:3\n",
      "Enter the integers:4\n",
      "Enter the integers:5\n",
      "Enter the integers:6\n",
      "Average of given integers is: 4.2\n"
     ]
    }
   ],
   "source": [
    "num = int(input('Enter the range:'))\n",
    "sum = 0\n",
    "\n",
    "for i in range(num):\n",
    "    a = int(input('Enter the integers:'))\n",
    "    sum = sum + a\n",
    "    avg = sum / num\n",
    "print('Average of given integers is:', avg)"
   ]
  },
  {
   "cell_type": "markdown",
   "id": "c12e5ef2",
   "metadata": {},
   "source": [
    "### 3. Python program to check whether the given integer is a multiple of both 5 and 7"
   ]
  },
  {
   "cell_type": "code",
   "execution_count": 5,
   "id": "422742ba",
   "metadata": {},
   "outputs": [
    {
     "name": "stdout",
     "output_type": "stream",
     "text": [
      "Enter the integer:5\n",
      "5 is not multiple by both 5 and 7\n"
     ]
    }
   ],
   "source": [
    "n = int(input('Enter the integer:'))\n",
    "\n",
    "def mul(n):\n",
    "    if(n%5 == 0 and n%7 == 0):\n",
    "        print(n, 'is multiple by both 5 and 7')\n",
    "    else:\n",
    "        print(n, 'is not multiple by both 5 and 7')\n",
    "        \n",
    "mul(n)"
   ]
  },
  {
   "cell_type": "markdown",
   "id": "a2573508",
   "metadata": {},
   "source": [
    "### 4. Python program to display the given integer in reverse manner\n",
    "a. Ex: input 852, output should be 258"
   ]
  },
  {
   "cell_type": "code",
   "execution_count": 4,
   "id": "6c1bc8b9",
   "metadata": {},
   "outputs": [
    {
     "name": "stdout",
     "output_type": "stream",
     "text": [
      "Enter the integer:852\n",
      "258\n"
     ]
    }
   ],
   "source": [
    "n = int(input('Enter the integer:'))\n",
    "a = 0\n",
    "while(n > 0):\n",
    "    a = (n % 10) + (a * 10)\n",
    "    n = n // 10\n",
    "print(a)"
   ]
  },
  {
   "cell_type": "markdown",
   "id": "0c5238d6",
   "metadata": {},
   "source": [
    "### 6. Python Program to Check Leap Year\n",
    "a. A leap year is exactly divisible by 4 except for century years (years ending with 00).\n",
    "The century year is a leap year only if it is perfectly divisible by 400\n",
    "b. For ex: 2017 is not a leap year, 1900 is a not leap year, 2012 is a leap year, 2000 is a\n",
    "leap year\n"
   ]
  },
  {
   "cell_type": "code",
   "execution_count": 9,
   "id": "571c0620",
   "metadata": {},
   "outputs": [
    {
     "name": "stdout",
     "output_type": "stream",
     "text": [
      "Enter the integer:2017\n",
      "It is not a leap year\n"
     ]
    }
   ],
   "source": [
    "n = int(input('Enter the integer:'))\n",
    "\n",
    "def leap_year(n):\n",
    "    if(n%4 == 0 and n%400 == 0 and n%100 != 0):\n",
    "        print('It is a leap year')\n",
    "    else:\n",
    "        print('It is not a leap year')\n",
    "leap_year(n)"
   ]
  },
  {
   "cell_type": "code",
   "execution_count": null,
   "id": "4ab5cd94",
   "metadata": {},
   "outputs": [],
   "source": []
  }
 ],
 "metadata": {
  "kernelspec": {
   "display_name": "Python 3 (ipykernel)",
   "language": "python",
   "name": "python3"
  },
  "language_info": {
   "codemirror_mode": {
    "name": "ipython",
    "version": 3
   },
   "file_extension": ".py",
   "mimetype": "text/x-python",
   "name": "python",
   "nbconvert_exporter": "python",
   "pygments_lexer": "ipython3",
   "version": "3.9.7"
  }
 },
 "nbformat": 4,
 "nbformat_minor": 5
}
